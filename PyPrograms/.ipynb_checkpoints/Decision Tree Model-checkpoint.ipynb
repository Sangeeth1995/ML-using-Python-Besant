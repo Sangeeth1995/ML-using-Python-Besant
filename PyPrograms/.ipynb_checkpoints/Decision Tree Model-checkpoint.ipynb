{
 "cells": [
  {
   "cell_type": "code",
   "execution_count": 1,
   "metadata": {},
   "outputs": [
    {
     "name": "stdout",
     "output_type": "stream",
     "text": [
      "<class 'pandas.core.frame.DataFrame'>\n",
      "RangeIndex: 150 entries, 0 to 149\n",
      "Data columns (total 4 columns):\n",
      "sepal length (cm)    150 non-null float64\n",
      "sepal width (cm)     150 non-null float64\n",
      "petal length (cm)    150 non-null float64\n",
      "petal width (cm)     150 non-null float64\n",
      "dtypes: float64(4)\n",
      "memory usage: 4.8 KB\n",
      "Accuracy Score :  0.9555555555555556\n"
     ]
    },
    {
     "data": {
      "text/plain": [
       "<matplotlib.collections.PathCollection at 0x1a22b95a50>"
      ]
     },
     "execution_count": 1,
     "metadata": {},
     "output_type": "execute_result"
    }
   ],
   "source": [
    "#Classification - Decision Tree\n",
    "\n",
    "import pandas as pd\n",
    "import numpy as np\n",
    "import seaborn as sns\n",
    "import matplotlib.pyplot as plt\n",
    "\n",
    "from sklearn.datasets import load_iris\n",
    "from sklearn.tree import DecisionTreeClassifier as DCT\n",
    "\n",
    "from sklearn.model_selection import train_test_split\n",
    "from sklearn.metrics import accuracy_score\n",
    "from sklearn.metrics import classification_report\n",
    "\n",
    "\n",
    "x = load_iris()\n",
    "df = pd.DataFrame(x.data,columns = x.feature_names)\n",
    "df.info()\n",
    "df.head()\n",
    "df[\"TypesOfFlower\"] = pd.Categorical.from_codes(x.target,x.target_names)\n",
    "df.head(150)\n",
    "\n",
    "X=df.drop(\"TypesOfFlower\",axis=1)\n",
    "Y=df[\"TypesOfFlower\"]\n",
    "\n",
    "#print(X)\n",
    "#print(Y)\n",
    "\n",
    "X_train,X_test,Y_train,Y_test=train_test_split(X,Y,random_state=1,test_size=0.3)\n",
    "#DCT has criterias , we use entropy , it decides wether it is homogenious[0] or hetrogenious[1] \n",
    "#Another criteria is Gini index\n",
    "decisionTreeModel  = DCT(criterion = \"entropy\" , min_samples_split = 2)\n",
    "#print(decisionTreeModel)\n",
    "\n",
    "decisionTreeModel.fit(X_train,Y_train) #giving training datas in to the model\n",
    "Y_pred=decisionTreeModel.predict(X_test)\n",
    "\n",
    "#print(confusion_matrix(Y_test,Y_pred))\n",
    "#print(classification_report(Y_test,Y_pred))\n",
    "\n",
    "print(\"Accuracy Score : \" ,accuracy_score(Y_test,Y_pred))\n",
    "\n",
    "plt.scatter(X_test[\"sepal length (cm)\"],Y_pred,color='red')\n",
    "#plt.plot(X_test[\"sepal length (cm)\"],Y_pred)\n",
    "\n",
    "#Tuning parameters : Will increase the accuracy \n",
    "#   Change test_size or increase trainig set range\n",
    "#   min_samples_split = 2 to 4\n"
   ]
  },
  {
   "cell_type": "code",
   "execution_count": null,
   "metadata": {},
   "outputs": [],
   "source": []
  }
 ],
 "metadata": {
  "kernelspec": {
   "display_name": "Python 3",
   "language": "python",
   "name": "python3"
  },
  "language_info": {
   "codemirror_mode": {
    "name": "ipython",
    "version": 3
   },
   "file_extension": ".py",
   "mimetype": "text/x-python",
   "name": "python",
   "nbconvert_exporter": "python",
   "pygments_lexer": "ipython3",
   "version": "3.7.4"
  }
 },
 "nbformat": 4,
 "nbformat_minor": 2
}
