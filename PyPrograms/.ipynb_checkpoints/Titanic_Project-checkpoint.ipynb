{
 "cells": [
  {
   "cell_type": "code",
   "execution_count": 7,
   "metadata": {},
   "outputs": [
    {
     "name": "stdout",
     "output_type": "stream",
     "text": [
      "<class 'pandas.core.frame.DataFrame'>\n",
      "RangeIndex: 891 entries, 0 to 890\n",
      "Data columns (total 12 columns):\n",
      "PassengerId    891 non-null int64\n",
      "Survived       891 non-null int64\n",
      "Pclass         891 non-null int64\n",
      "Name           891 non-null object\n",
      "Sex            891 non-null object\n",
      "Age            714 non-null float64\n",
      "SibSp          891 non-null int64\n",
      "Parch          891 non-null int64\n",
      "Ticket         891 non-null object\n",
      "Fare           891 non-null float64\n",
      "Cabin          204 non-null object\n",
      "Embarked       889 non-null object\n",
      "dtypes: float64(2), int64(5), object(5)\n",
      "memory usage: 83.7+ KB\n",
      "   Survived   Age  SibSp  Parch     Fare  male  2  3  Q  S\n",
      "0         0  22.0      1      0   7.2500     1  0  1  0  1\n",
      "1         1  38.0      1      0  71.2833     0  0  0  0  0\n",
      "2         1  26.0      0      0   7.9250     0  0  1  0  1\n",
      "3         1  35.0      1      0  53.1000     0  0  0  0  1\n",
      "4         0  35.0      0      0   8.0500     1  0  1  0  1\n",
      "<class 'numpy.ndarray'>\n",
      "[[129  24]\n",
      " [ 41  74]]\n",
      "              precision    recall  f1-score   support\n",
      "\n",
      "           0       0.76      0.84      0.80       153\n",
      "           1       0.76      0.64      0.69       115\n",
      "\n",
      "    accuracy                           0.76       268\n",
      "   macro avg       0.76      0.74      0.75       268\n",
      "weighted avg       0.76      0.76      0.75       268\n",
      "\n",
      "Accuracy Score :  0.7574626865671642\n"
     ]
    },
    {
     "data": {
      "text/plain": [
       "Text(0, 0.5, 'Survived')"
      ]
     },
     "execution_count": 7,
     "metadata": {},
     "output_type": "execute_result"
    },
    {
     "data": {
      "image/png": "[encoded data removed]",
      "text/plain": [
       "<Figure size 1440x720 with 1 Axes>"
      ]
     },
     "metadata": {
      "needs_background": "light"
     },
     "output_type": "display_data"
    }
   ],
   "source": [
    "import pandas as pd\n",
    "import numpy as np\n",
    "import seaborn as sns\n",
    "import matplotlib.pyplot as plt\n",
    "\n",
    "from sklearn.tree import DecisionTreeClassifier as DCT\n",
    "from sklearn.model_selection import train_test_split\n",
    "from sklearn.metrics import accuracy_score\n",
    "from sklearn.metrics import classification_report\n",
    "from sklearn.metrics import confusion_matrix\n",
    "\n",
    "\n",
    "\n",
    "#2.Datacollection\n",
    "dataset=pd.read_csv('titanic.csv')\n",
    "dataset.info()\n",
    "dataset.head()\n",
    "\n",
    "\n",
    "# #3.Analysing Data(Seaborn)\n",
    "\n",
    "# #4.cleaning data\n",
    "dataset.isnull()\n",
    "dataset.isnull().sum()\n",
    "plt.figure(figsize=(20,10))\n",
    "#sns.heatmap(dataset.isnull())\n",
    "mean = dataset[\"Age\"].mean()\n",
    "dataset[\"Age\"] = dataset[\"Age\"].fillna(mean)\n",
    "dataset.isnull().sum()\n",
    "#sns.heatmap(dataset.isnull())\n",
    "dataset.drop(\"Cabin\",inplace=True,axis=1)\n",
    "dataset.isnull().sum()\n",
    "#dataset.dropna(inplace=True) which will remove the null rows\n",
    "\n",
    "\n",
    "\n",
    "#5. Data modelling (converting categorical to numerical values, it will be easy the machine to understand numerical variables than string variables) v)\n",
    "\n",
    "a=pd.get_dummies(dataset['Sex'],drop_first=True)#a is dummy column(column'male' in the output)\n",
    "b=pd.get_dummies(dataset['Pclass'],drop_first=True) #b is dummy column(columns '2' and '3' in the output )\n",
    "c=pd.get_dummies(dataset['Embarked'],drop_first=True) #c is dummy column (columns 'Q' and 'S' in the output)\n",
    "\n",
    "dataset=pd.concat([dataset,a,b,c],axis=1)# adding the newly created columns in to the original dataset\n",
    "dataset.head()\n",
    "\n",
    "\n",
    "#deleting Sex,Pclass and Embarked columns(we created dummy columns for these) and other unwanted columns\n",
    "dataset.drop(['PassengerId','Pclass','Name','Sex','Ticket','Embarked'],axis=1,inplace=True)\n",
    "print(dataset.head())\n",
    "\n",
    "X=dataset.drop('Survived',axis=1)\n",
    "Y=dataset['Survived']\n",
    "\n",
    "X_train,X_test,Y_train,Y_test=train_test_split(X,Y,random_state=1,test_size=0.3)\n",
    "\n",
    "\n",
    "def DCT_Model():\n",
    "    decisionTreeModel  = DCT(criterion = \"entropy\" , min_samples_split = 2)\n",
    "    decisionTreeModel.fit(X_train,Y_train) #giving training datas in to the model\n",
    "    Y_pred=decisionTreeModel.predict(X_test)\n",
    "    return(Y_pred)\n",
    "    \n",
    "    \n",
    "    \n",
    "Y_pred = DCT_Model()\n",
    "print(type(Y_pred))\n",
    "print(confusion_matrix(Y_test,Y_pred))\n",
    "print(classification_report(Y_test,Y_pred))\n",
    "print(\"Accuracy Score : \" ,accuracy_score(Y_test,Y_pred))\n",
    "plt.scatter(X_test[\"Age\"],Y_pred,color='red')\n",
    "#plt.plot(X_test[\"Age\"],Y_pred)\n",
    "plt.title('Decision Tree')\n",
    "plt.xlabel('Age')\n",
    "plt.ylabel('Survived')\n",
    "\n"
   ]
  },
  {
   "cell_type": "code",
   "execution_count": null,
   "metadata": {},
   "outputs": [],
   "source": []
  }
 ],
 "metadata": {
  "kernelspec": {
   "display_name": "Python 3",
   "language": "python",
   "name": "python3"
  },
  "language_info": {
   "codemirror_mode": {
    "name": "ipython",
    "version": 3
   },
   "file_extension": ".py",
   "mimetype": "text/x-python",
   "name": "python",
   "nbconvert_exporter": "python",
   "pygments_lexer": "ipython3",
   "version": "3.7.4"
  }
 },
 "nbformat": 4,
 "nbformat_minor": 2
}
